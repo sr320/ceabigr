{
 "cells": [
  {
   "cell_type": "markdown",
   "metadata": {},
   "source": [
    "## Wrangle [ceabigr](https://github.com/sr320/ceabigr) predominant isoform data in females and males\n",
    "\n",
    "---"
   ]
  },
  {
   "cell_type": "markdown",
   "metadata": {},
   "source": [
    "### List computer specs"
   ]
  },
  {
   "cell_type": "code",
   "execution_count": 1,
   "metadata": {
    "tags": []
   },
   "outputs": [
    {
     "name": "stdout",
     "output_type": "stream",
     "text": [
      "TODAY'S DATE\n",
      "Thu Sep 22 09:19:44 AM PDT 2022\n",
      "------------\n",
      "\n",
      "Distributor ID:\tUbuntu\n",
      "Description:\tUbuntu 22.04.1 LTS\n",
      "Release:\t22.04\n",
      "Codename:\tjammy\n",
      "\n",
      "------------\n",
      "HOSTNAME: \n",
      "computer\n",
      "\n",
      "------------\n",
      "Computer Specs:\n",
      "\n",
      "Architecture:                    x86_64\n",
      "CPU op-mode(s):                  32-bit, 64-bit\n",
      "Address sizes:                   45 bits physical, 48 bits virtual\n",
      "Byte Order:                      Little Endian\n",
      "CPU(s):                          8\n",
      "On-line CPU(s) list:             0-7\n",
      "Vendor ID:                       GenuineIntel\n",
      "Model name:                      Intel(R) Core(TM) i9-10885H CPU @ 2.40GHz\n",
      "CPU family:                      6\n",
      "Model:                           165\n",
      "Thread(s) per core:              1\n",
      "Core(s) per socket:              1\n",
      "Socket(s):                       8\n",
      "Stepping:                        2\n",
      "BogoMIPS:                        4800.01\n",
      "Flags:                           fpu vme de pse tsc msr pae mce cx8 apic sep mtrr pge mca cmov pat pse36 clflush mmx fxsr sse sse2 ss syscall nx pdpe1gb rdtscp lm constant_tsc arch_perfmon nopl xtopology tsc_reliable nonstop_tsc cpuid tsc_known_freq pni pclmulqdq ssse3 fma cx16 pcid sse4_1 sse4_2 x2apic movbe popcnt tsc_deadline_timer aes xsave avx f16c rdrand hypervisor lahf_lm abm 3dnowprefetch invpcid_single pti ssbd ibrs ibpb stibp fsgsbase tsc_adjust bmi1 avx2 smep bmi2 invpcid rdseed adx smap clflushopt xsaveopt xsavec xgetbv1 xsaves arat flush_l1d arch_capabilities\n",
      "Hypervisor vendor:               VMware\n",
      "Virtualization type:             full\n",
      "L1d cache:                       256 KiB (8 instances)\n",
      "L1i cache:                       256 KiB (8 instances)\n",
      "L2 cache:                        2 MiB (8 instances)\n",
      "L3 cache:                        128 MiB (8 instances)\n",
      "NUMA node(s):                    1\n",
      "NUMA node0 CPU(s):               0-7\n",
      "Vulnerability Itlb multihit:     KVM: Mitigation: VMX unsupported\n",
      "Vulnerability L1tf:              Mitigation; PTE Inversion\n",
      "Vulnerability Mds:               Vulnerable: Clear CPU buffers attempted, no microcode; SMT Host state unknown\n",
      "Vulnerability Meltdown:          Mitigation; PTI\n",
      "Vulnerability Mmio stale data:   Vulnerable: Clear CPU buffers attempted, no microcode; SMT Host state unknown\n",
      "Vulnerability Retbleed:          Mitigation; IBRS\n",
      "Vulnerability Spec store bypass: Mitigation; Speculative Store Bypass disabled via prctl and seccomp\n",
      "Vulnerability Spectre v1:        Mitigation; usercopy/swapgs barriers and __user pointer sanitization\n",
      "Vulnerability Spectre v2:        Mitigation; IBRS, IBPB conditional, RSB filling\n",
      "Vulnerability Srbds:             Unknown: Dependent on hypervisor status\n",
      "Vulnerability Tsx async abort:   Not affected\n",
      "\n",
      "------------\n",
      "\n",
      "Memory Specs\n",
      "\n",
      "               total        used        free      shared  buff/cache   available\n",
      "Mem:            54Gi       5.1Gi        42Gi       354Mi       7.0Gi        48Gi\n",
      "Swap:          2.0Gi          0B       2.0Gi\n"
     ]
    },
    {
     "name": "stderr",
     "output_type": "stream",
     "text": [
      "No LSB modules are available.\n"
     ]
    }
   ],
   "source": [
    "%%bash\n",
    "echo \"TODAY'S DATE\"\n",
    "date\n",
    "echo \"------------\"\n",
    "echo \"\"\n",
    "lsb_release -a\n",
    "echo \"\"\n",
    "echo \"------------\"\n",
    "echo \"HOSTNAME: \"\n",
    "hostname\n",
    "echo \"\"\n",
    "echo \"------------\"\n",
    "echo \"Computer Specs:\"\n",
    "echo \"\"\n",
    "lscpu\n",
    "echo \"\"\n",
    "echo \"------------\"\n",
    "echo \"\"\n",
    "echo \"Memory Specs\"\n",
    "echo \"\"\n",
    "free -mh"
   ]
  },
  {
   "cell_type": "code",
   "execution_count": 2,
   "metadata": {},
   "outputs": [
    {
     "name": "stdout",
     "output_type": "stream",
     "text": [
      "env: line=--------------------------------------------------------------\n"
     ]
    }
   ],
   "source": [
    "## Set variables\n",
    "%env line=--------------------------------------------------------------"
   ]
  },
  {
   "cell_type": "markdown",
   "metadata": {},
   "source": [
    "## Identify differences in predominant isoforms between female and male sets"
   ]
  },
  {
   "cell_type": "markdown",
   "metadata": {},
   "source": [
    "### Peek at the data sets we're working with"
   ]
  },
  {
   "cell_type": "code",
   "execution_count": 3,
   "metadata": {},
   "outputs": [
    {
     "name": "stdout",
     "output_type": "stream",
     "text": [
      "==> ../output/42-predominant-isoform/predom_iso-FEMALE.txt <==\n",
      "gene_name\tt_name\tPredom_exp\n",
      "ATP6\tgene-ATP6\t1559.459344875\n",
      "COX1\tgene-COX1\t2522.038659875\n",
      "COX2\tgene-COX2\t3275.719864625\n",
      "COX3\tgene-COX3\t1304.791763125\n",
      "CYTB\tgene-CYTB\t3774.9275236875\n",
      "LOC111099029\trna-XM_022458270.1\t8.126048875\n",
      "LOC111099030\trna-XM_022430679.1\t0.3691793125\n",
      "LOC111099031\trna-XM_022430340.1\t0.025242\n",
      "LOC111099032\trna-XM_022430343.1\t0.311879\n",
      "\n",
      "==> ../output/42-predominant-isoform/predom_iso-FEMALE-unique.txt <==\n",
      "LOC111099035 rna-XM_022430345.1\n",
      "LOC111099040 rna-XM_022430369.1\n",
      "LOC111099047 rna-XM_022430386.1\n",
      "LOC111099084 rna-XR_002633625.1\n",
      "LOC111099101 rna-XM_022430465.1\n",
      "LOC111099106 rna-XM_022430474.1\n",
      "LOC111099125 rna-XM_022430498.1\n",
      "LOC111099135 rna-XM_022430519.1\n",
      "LOC111099152 rna-XM_022430540.1\n",
      "LOC111099157 rna-XM_022430556.1\n",
      "\n",
      "==> ../output/42-predominant-isoform/predom_iso-MALE.txt <==\n",
      "gene_name\tt_name\tPredom_exp\n",
      "ATP6\tgene-ATP6\t168.1429404\n",
      "COX1\tgene-COX1\t391.711256\n",
      "COX2\tgene-COX2\t469.952397\n",
      "COX3\tgene-COX3\t317.3457539\n",
      "CYTB\tgene-CYTB\t572.9543073\n",
      "LOC111099029\trna-XM_022458270.1\t2.7177601\n",
      "LOC111099030\trna-XM_022430679.1\t7.1210692\n",
      "LOC111099031\trna-XM_022430340.1\t2.7255408\n",
      "LOC111099032\trna-XM_022430343.1\t11.5618458\n",
      "\n",
      "==> ../output/42-predominant-isoform/predom_iso-MALE-unique.txt <==\n",
      "LOC111099035 rna-XM_022430346.1\n",
      "LOC111099040 rna-XM_022430378.1\n",
      "LOC111099047 rna-XM_022430390.1\n",
      "LOC111099084 rna-XM_022430443.1\n",
      "LOC111099101 rna-XM_022430466.1\n",
      "LOC111099106 rna-XM_022430475.1\n",
      "LOC111099125 rna-XM_022430496.1\n",
      "LOC111099135 rna-XM_022430517.1\n",
      "LOC111099152 rna-XM_022430539.1\n",
      "LOC111099157 rna-XM_022430550.1\n",
      "\n",
      "--------------------------------------------------------------\n",
      "Line counts for each file:\n",
      "\n",
      "39015 ../output/42-predominant-isoform/predom_iso-FEMALE.txt\n",
      "39015 ../output/42-predominant-isoform/predom_iso-MALE.txt\n"
     ]
    }
   ],
   "source": [
    "%%bash\n",
    "\n",
    "head ../output/42-predominant-isoform/predom_iso-[FM]*.txt\n",
    "\n",
    "echo \"\"\n",
    "echo \"${line}\"\n",
    "echo \"Line counts for each file:\"\n",
    "echo \"\"\n",
    "\n",
    "wc -l ../output/42-predominant-isoform/predom_iso-FEMALE.txt\n",
    "\n",
    "wc -l ../output/42-predominant-isoform/predom_iso-MALE.txt"
   ]
  },
  {
   "cell_type": "markdown",
   "metadata": {},
   "source": [
    "### Identify unique entries in the FEMALE and MALE predominant isoform files\n",
    "\n",
    "Uses `comm` command to _suppress_ common lines between two files."
   ]
  },
  {
   "cell_type": "code",
   "execution_count": 4,
   "metadata": {},
   "outputs": [
    {
     "name": "stdout",
     "output_type": "stream",
     "text": [
      "==> ../output/42-predominant-isoform/predom_iso-controls-FEMALE-unique.txt <==\n",
      "LOC111099035 rna-XM_022430345.1\n",
      "LOC111099040 rna-XM_022430369.1\n",
      "LOC111099047 rna-XM_022430386.1\n",
      "LOC111099084 rna-XR_002633625.1\n",
      "LOC111099101 rna-XM_022430465.1\n",
      "LOC111099106 rna-XM_022430474.1\n",
      "LOC111099125 rna-XM_022430498.1\n",
      "LOC111099135 rna-XM_022430519.1\n",
      "LOC111099152 rna-XM_022430540.1\n",
      "LOC111099157 rna-XM_022430556.1\n",
      "\n",
      "==> ../output/42-predominant-isoform/predom_iso-controls-MALE-unique.txt <==\n",
      "LOC111099084 rna-XM_022430443.1\n",
      "LOC111099099 rna-XM_022430464.1\n",
      "LOC111099125 rna-XM_022430497.1\n",
      "LOC111099129 rna-XR_002633632.1\n",
      "LOC111099171 rna-XM_022430581.1\n",
      "LOC111099194 rna-XM_022430607.1\n",
      "LOC111099457 rna-XR_002633677.1\n",
      "LOC111099496 rna-XM_022430797.1\n",
      "LOC111099511 rna-XM_022430820.1\n",
      "LOC111099549 rna-XM_022430862.1\n",
      "\n",
      "==> ../output/42-predominant-isoform/predom_iso-exposed-FEMALE-unique.txt <==\n",
      "LOC111099035 rna-XM_022430346.1\n",
      "LOC111099040 rna-XM_022430378.1\n",
      "LOC111099047 rna-XM_022430390.1\n",
      "LOC111099084 rna-XM_022430443.1\n",
      "LOC111099101 rna-XM_022430466.1\n",
      "LOC111099106 rna-XM_022430475.1\n",
      "LOC111099125 rna-XM_022430496.1\n",
      "LOC111099135 rna-XM_022430517.1\n",
      "LOC111099152 rna-XM_022430539.1\n",
      "LOC111099157 rna-XM_022430550.1\n",
      "\n",
      "==> ../output/42-predominant-isoform/predom_iso-exposed-MALE-unique.txt <==\n",
      "LOC111099084 rna-XR_002633625.1\n",
      "LOC111099099 rna-XM_022430462.1\n",
      "LOC111099125 rna-XM_022430498.1\n",
      "LOC111099129 rna-XR_002633633.1\n",
      "LOC111099171 rna-XM_022430577.1\n",
      "LOC111099194 rna-XM_022430605.1\n",
      "LOC111099457 rna-XR_002633680.1\n",
      "LOC111099496 rna-XM_022430796.1\n",
      "LOC111099511 rna-XM_022430821.1\n",
      "LOC111099549 rna-XM_022430864.1\n",
      "\n",
      "==> ../output/42-predominant-isoform/predom_iso-FEMALE-unique.txt <==\n",
      "LOC111099045 rna-XM_022430383.1\n",
      "LOC111099056 rna-XM_022430398.1\n",
      "LOC111099081 rna-XM_022430439.1\n",
      "LOC111099095 rna-XM_022430454.1\n",
      "LOC111099097 rna-XM_022430457.1\n",
      "LOC111099106 rna-XM_022430475.1\n",
      "LOC111099122 rna-XM_022430490.1\n",
      "LOC111099147 rna-XM_022430532.1\n",
      "LOC111099150 rna-XM_022430534.1\n",
      "LOC111099152 rna-XM_022430539.1\n",
      "\n",
      "==> ../output/42-predominant-isoform/predom_iso-MALE-unique.txt <==\n",
      "LOC111099045 rna-XM_022430381.1\n",
      "LOC111099056 rna-XM_022430399.1\n",
      "LOC111099081 rna-XM_022430438.1\n",
      "LOC111099095 rna-XM_022430455.1\n",
      "LOC111099097 rna-XM_022430459.1\n",
      "LOC111099106 rna-XM_022430473.1\n",
      "LOC111099122 rna-XM_022430489.1\n",
      "LOC111099147 rna-XM_022430531.1\n",
      "LOC111099150 rna-XM_022430535.1\n",
      "LOC111099152 rna-XM_022430540.1\n",
      "\n",
      "--------------------------------------------------------------\n",
      "Line counts for each file:\n",
      "\n",
      "4090 ../output/42-predominant-isoform/predom_iso-FEMALE-unique.txt\n",
      "4090 ../output/42-predominant-isoform/predom_iso-MALE-unique.txt\n",
      "\n",
      "--------------------------------------------------------------\n",
      "\n"
     ]
    }
   ],
   "source": [
    "%%bash\n",
    "\n",
    "# Prints unique lines present in the first file (FEMALE)\n",
    "# Skips header line (NR > 1)\n",
    "comm -23 \\\n",
    "<(awk 'NR > 1 {print $1, $2}' ../output/42-predominant-isoform/predom_iso-FEMALE.txt | sort) \\\n",
    "<(awk 'NR > 1 {print $1, $2}' ../output/42-predominant-isoform/predom_iso-MALE.txt | sort) \\\n",
    "> ../output/42-predominant-isoform/predom_iso-FEMALE-unique.txt\n",
    "\n",
    "# Prints unique lines present in the second file (MALE)\n",
    "comm -13 \\\n",
    "<(awk 'NR > 1 {print $1, $2}' ../output/42-predominant-isoform/predom_iso-FEMALE.txt | sort) \\\n",
    "<(awk 'NR > 1 {print $1, $2}' ../output/42-predominant-isoform/predom_iso-MALE.txt | sort) \\\n",
    "> ../output/42-predominant-isoform/predom_iso-MALE-unique.txt\n",
    "\n",
    "# Peek at each file\n",
    "head ../output/42-predominant-isoform/*unique.txt\n",
    "\n",
    "echo \"\"\n",
    "echo \"${line}\"\n",
    "echo \"Line counts for each file:\"\n",
    "echo \"\"\n",
    "\n",
    "wc -l ../output/42-predominant-isoform/predom_iso-FEMALE-unique.txt\n",
    "\n",
    "wc -l ../output/42-predominant-isoform/predom_iso-MALE-unique.txt\n",
    "\n",
    "echo \"\"\n",
    "echo \"${line}\"\n",
    "echo \"\""
   ]
  },
  {
   "cell_type": "markdown",
   "metadata": {},
   "source": [
    "### Confirm no difference in genes identified between two files\n",
    "\n",
    "No output means there are _no_ differences."
   ]
  },
  {
   "cell_type": "code",
   "execution_count": 5,
   "metadata": {
    "tags": []
   },
   "outputs": [],
   "source": [
    "%%bash\n",
    "diff \\\n",
    "<(awk '{print $1}' ../output/42-predominant-isoform/predom_iso-FEMALE-unique.txt) \\\n",
    "<(awk '{print $1}' ../output/42-predominant-isoform/predom_iso-MALE-unique.txt)"
   ]
  },
  {
   "cell_type": "markdown",
   "metadata": {},
   "source": [
    "## Create file with column indicating different predominant isoform between sexes\n",
    "\n",
    "0 - No difference\n",
    "\n",
    "1 - Difference\n",
    "\n",
    "Join on `predom_iso-FEMALE.txt` and keep all of the `predom_iso-FEMALE.txt` lines.\n",
    "\n",
    "If a line has 3 fields, then there was _no_ match and gets a `0` in output file.\n",
    "\n",
    "If a line has 4 fields, then there _was_ a match and gets a `1` in output file."
   ]
  },
  {
   "cell_type": "code",
   "execution_count": 6,
   "metadata": {},
   "outputs": [
    {
     "name": "stdout",
     "output_type": "stream",
     "text": [
      "ATP6 \t 0\n",
      "COX1 \t 0\n",
      "COX2 \t 0\n",
      "COX3 \t 0\n",
      "CYTB \t 0\n",
      "LOC111099029 \t 0\n",
      "LOC111099030 \t 0\n",
      "LOC111099031 \t 0\n",
      "LOC111099032 \t 0\n",
      "LOC111099033 \t 0\n",
      "\n",
      "--------------------------------------------------------------\n",
      "Confirm there are are lines with a 1 in second column.\n",
      "\n",
      "Expecting 4090:\n",
      "\n",
      "  34924 0\n",
      "   4090 1\n",
      "\n",
      "--------------------------------------------------------------\n",
      "Line counts for predom_iso-diff-female_vs_male.tab (expecting 39014):\n",
      "\n",
      "39014 ../output/42-predominant-isoform/predom_iso-diff-female_vs_male.tab\n"
     ]
    }
   ],
   "source": [
    "%%bash\n",
    "# Join and keep all lines from first file (-a 1)\n",
    "join \\\n",
    "-a 1 \\\n",
    "<(awk 'NR > 1' ../output/42-predominant-isoform/predom_iso-FEMALE.txt | sort -k1,1) \\\n",
    "<(sort -k1,1 ../output/42-predominant-isoform/predom_iso-FEMALE-unique.txt) \\\n",
    "| awk '{if (NF==4) print $1, \"\\t\", 1; else print $1, \"\\t\", 0}' \\\n",
    "> ../output/42-predominant-isoform/predom_iso-diff-female_vs_male.tab\n",
    "\n",
    "# Check file format\n",
    "head ../output/42-predominant-isoform/*diff-female_vs_male.tab\n",
    "\n",
    "\n",
    "\n",
    "echo \"\"\n",
    "echo \"${line}\"\n",
    "echo \"Confirm there are are lines with a \"1\" in second column.\"\n",
    "echo \"\"\n",
    "echo \"Expecting 4090:\"\n",
    "echo \"\"\n",
    "\n",
    "# Display counts of lines with 0 and 1 in second column\n",
    "awk '{print $2}' ../output/42-predominant-isoform/*diff-female_vs_male.tab \\\n",
    "| sort \\\n",
    "| uniq --count\n",
    "\n",
    "echo \"\"\n",
    "echo \"${line}\"\n",
    "echo \"Line counts for predom_iso-diff-female_vs_male.tab (expecting 39014):\"\n",
    "echo \"\"\n",
    "\n",
    "wc -l ../output/42-predominant-isoform/predom_iso-diff-female_vs_male.tab"
   ]
  },
  {
   "cell_type": "markdown",
   "metadata": {},
   "source": [
    "## Identify differences in predominant isoforms between _control_ and _exposed_ FEMALE sets."
   ]
  },
  {
   "cell_type": "markdown",
   "metadata": {},
   "source": [
    "### Peek at the data sets we're working with"
   ]
  },
  {
   "cell_type": "code",
   "execution_count": 7,
   "metadata": {},
   "outputs": [
    {
     "name": "stdout",
     "output_type": "stream",
     "text": [
      "==> ../output/42-predominant-isoform/predom_iso-controls-FEMALE.txt <==\n",
      "gene_name\tt_name\tPredom_exp\n",
      "ATP6\tgene-ATP6\t1556.936656\n",
      "COX1\tgene-COX1\t2620.65207916667\n",
      "COX2\tgene-COX2\t3303.03234183333\n",
      "COX3\tgene-COX3\t1337.4900205\n",
      "CYTB\tgene-CYTB\t3732.32512833333\n",
      "LOC111099029\trna-XM_022458270.1\t6.09067216666667\n",
      "LOC111099030\trna-XM_022430679.1\t0.222926833333333\n",
      "LOC111099031\trna-XM_022430340.1\t0.0442751666666667\n",
      "LOC111099032\trna-XM_022430343.1\t0.305045333333333\n",
      "\n",
      "==> ../output/42-predominant-isoform/predom_iso-exposed-FEMALE.txt <==\n",
      "gene_name\tt_name\tPredom_exp\n",
      "ATP6\tgene-ATP6\t1624.41369683333\n",
      "COX1\tgene-COX1\t2420.26405716667\n",
      "COX2\tgene-COX2\t3077.3059535\n",
      "COX3\tgene-COX3\t1280.654135\n",
      "CYTB\tgene-CYTB\t3929.06415383333\n",
      "LOC111099029\trna-XM_022458270.1\t12.9312403333333\n",
      "LOC111099030\trna-XM_022430679.1\t0.2309585\n",
      "LOC111099031\trna-XM_022430340.1\t0\n",
      "LOC111099032\trna-XM_022430343.1\t0.310936166666667\n",
      "\n",
      "--------------------------------------------------------------\n",
      "Line counts for each file:\n",
      "\n",
      "39015 ../output/42-predominant-isoform/predom_iso-controls-FEMALE.txt\n",
      "39015 ../output/42-predominant-isoform/predom_iso-exposed-FEMALE.txt\n"
     ]
    }
   ],
   "source": [
    "%%bash\n",
    "\n",
    "head ../output/42-predominant-isoform/predom_iso-[ce]*FEMALE.txt\n",
    "\n",
    "echo \"\"\n",
    "echo \"${line}\"\n",
    "echo \"Line counts for each file:\"\n",
    "echo \"\"\n",
    "\n",
    "wc -l ../output/42-predominant-isoform/predom_iso-controls-FEMALE.txt\n",
    "\n",
    "wc -l ../output/42-predominant-isoform/predom_iso-exposed-FEMALE.txt"
   ]
  },
  {
   "cell_type": "markdown",
   "metadata": {},
   "source": [
    "### Identify unique entries in the control FEMALE and exposed FEMALE predominant isoform files\n",
    "\n",
    "Uses `comm` command to _suppress_ common lines between two files."
   ]
  },
  {
   "cell_type": "code",
   "execution_count": 8,
   "metadata": {},
   "outputs": [
    {
     "name": "stdout",
     "output_type": "stream",
     "text": [
      "==> ../output/42-predominant-isoform/predom_iso-controls-FEMALE-unique.txt <==\n",
      "LOC111099035 rna-XM_022430345.1\n",
      "LOC111099040 rna-XM_022430369.1\n",
      "LOC111099047 rna-XM_022430386.1\n",
      "LOC111099084 rna-XR_002633625.1\n",
      "LOC111099101 rna-XM_022430465.1\n",
      "LOC111099106 rna-XM_022430474.1\n",
      "LOC111099125 rna-XM_022430498.1\n",
      "LOC111099135 rna-XM_022430519.1\n",
      "LOC111099152 rna-XM_022430540.1\n",
      "LOC111099157 rna-XM_022430556.1\n",
      "\n",
      "==> ../output/42-predominant-isoform/predom_iso-exposed-FEMALE-unique.txt <==\n",
      "LOC111099035 rna-XM_022430346.1\n",
      "LOC111099040 rna-XM_022430378.1\n",
      "LOC111099047 rna-XM_022430390.1\n",
      "LOC111099084 rna-XM_022430443.1\n",
      "LOC111099101 rna-XM_022430466.1\n",
      "LOC111099106 rna-XM_022430475.1\n",
      "LOC111099125 rna-XM_022430496.1\n",
      "LOC111099135 rna-XM_022430517.1\n",
      "LOC111099152 rna-XM_022430539.1\n",
      "LOC111099157 rna-XM_022430550.1\n",
      "\n",
      "--------------------------------------------------------------\n",
      "Line counts for each file:\n",
      "\n",
      "2252 ../output/42-predominant-isoform/predom_iso-controls-FEMALE-unique.txt\n",
      "2252 ../output/42-predominant-isoform/predom_iso-exposed-FEMALE-unique.txt\n",
      "\n",
      "--------------------------------------------------------------\n",
      "\n"
     ]
    }
   ],
   "source": [
    "%%bash\n",
    "\n",
    "# Prints unique lines present in the first file (controls FEMALE)\n",
    "# Skips header line (NR > 1)\n",
    "comm -23 \\\n",
    "<(awk 'NR > 1 {print $1, $2}' ../output/42-predominant-isoform/predom_iso-controls-FEMALE.txt | sort) \\\n",
    "<(awk 'NR > 1 {print $1, $2}' ../output/42-predominant-isoform/predom_iso-exposed-FEMALE.txt | sort) \\\n",
    "> ../output/42-predominant-isoform/predom_iso-controls-FEMALE-unique.txt\n",
    "\n",
    "# Prints unique lines present in the second file (exposed FEMALE)\n",
    "comm -13 \\\n",
    "<(awk 'NR > 1 {print $1, $2}' ../output/42-predominant-isoform/predom_iso-controls-FEMALE.txt | sort) \\\n",
    "<(awk 'NR > 1 {print $1, $2}' ../output/42-predominant-isoform/predom_iso-exposed-FEMALE.txt | sort) \\\n",
    "> ../output/42-predominant-isoform/predom_iso-exposed-FEMALE-unique.txt\n",
    "\n",
    "# Peek at each file\n",
    "head ../output/42-predominant-isoform/predom_iso-[ce]*FEMALE-unique.txt\n",
    "\n",
    "echo \"\"\n",
    "echo \"${line}\"\n",
    "echo \"Line counts for each file:\"\n",
    "echo \"\"\n",
    "\n",
    "wc -l ../output/42-predominant-isoform/predom_iso-controls-FEMALE-unique.txt\n",
    "\n",
    "wc -l ../output/42-predominant-isoform/predom_iso-exposed-FEMALE-unique.txt\n",
    "\n",
    "echo \"\"\n",
    "echo \"${line}\"\n",
    "echo \"\""
   ]
  },
  {
   "cell_type": "markdown",
   "metadata": {},
   "source": [
    "### Confirm no difference in genes identified between two files\n",
    "\n",
    "No output means there are _no_ differences."
   ]
  },
  {
   "cell_type": "code",
   "execution_count": 9,
   "metadata": {},
   "outputs": [],
   "source": [
    "%%bash\n",
    "diff \\\n",
    "<(awk '{print $1}' ../output/42-predominant-isoform/predom_iso-controls-FEMALE-unique.txt) \\\n",
    "<(awk '{print $1}' ../output/42-predominant-isoform/predom_iso-exposed-FEMALE-unique.txt)"
   ]
  },
  {
   "cell_type": "markdown",
   "metadata": {},
   "source": [
    "## Create file with column indicating different predominant isoform between controls/exposed FEMALE\n",
    "\n",
    "0 - No difference\n",
    "\n",
    "1 - Difference\n",
    "\n",
    "Join on `predom_iso-control-FEMALE.txt` and keep all of the `predom_iso-control-FEMALE.txt` lines.\n",
    "\n",
    "If a line has 3 fields, then there was _no_ match and gets a `0` in output file.\n",
    "\n",
    "If a line has 4 fields, then there _was_ a match and gets a `1` in output file."
   ]
  },
  {
   "cell_type": "code",
   "execution_count": 10,
   "metadata": {},
   "outputs": [
    {
     "name": "stdout",
     "output_type": "stream",
     "text": [
      "ATP6 \t 0\n",
      "COX1 \t 0\n",
      "COX2 \t 0\n",
      "COX3 \t 0\n",
      "CYTB \t 0\n",
      "LOC111099029 \t 0\n",
      "LOC111099030 \t 0\n",
      "LOC111099031 \t 0\n",
      "LOC111099032 \t 0\n",
      "LOC111099033 \t 0\n",
      "\n",
      "--------------------------------------------------------------\n",
      "Confirm there are are lines with a 1 in second column.\n",
      "\n",
      "Expecting 2252:\n",
      "\n",
      "  36762 0\n",
      "   2252 1\n",
      "\n",
      "--------------------------------------------------------------\n",
      "Line counts for predom_iso-diff-female_vs_male.tab (expecting 39014):\n",
      "\n",
      "39014 ../output/42-predominant-isoform/predom_iso-diff-controls_vs_exposed-female.tab\n"
     ]
    }
   ],
   "source": [
    "%%bash\n",
    "# Join and keep all lines from first file (-a 1)\n",
    "join \\\n",
    "-a 1 \\\n",
    "<(awk 'NR > 1' ../output/42-predominant-isoform/predom_iso-controls-FEMALE.txt | sort -k1,1) \\\n",
    "<(sort -k1,1 ../output/42-predominant-isoform/predom_iso-controls-FEMALE-unique.txt) \\\n",
    "| awk '{if (NF==4) print $1, \"\\t\", 1; else print $1, \"\\t\", 0}' \\\n",
    "> ../output/42-predominant-isoform/predom_iso-diff-controls_vs_exposed-female.tab\n",
    "\n",
    "# Check file format\n",
    "head ../output/42-predominant-isoform/*diff-controls_vs_exposed-female.tab\n",
    "\n",
    "\n",
    "\n",
    "echo \"\"\n",
    "echo \"${line}\"\n",
    "echo \"Confirm there are are lines with a \"1\" in second column.\"\n",
    "echo \"\"\n",
    "echo \"Expecting 2252:\"\n",
    "echo \"\"\n",
    "\n",
    "# Display counts of lines with 0 and 1 in second column\n",
    "awk '{print $2}' ../output/42-predominant-isoform/*diff-controls_vs_exposed-female.tab \\\n",
    "| sort \\\n",
    "| uniq --count\n",
    "\n",
    "echo \"\"\n",
    "echo \"${line}\"\n",
    "echo \"Line counts for predom_iso-diff-female_vs_male.tab (expecting 39014):\"\n",
    "echo \"\"\n",
    "\n",
    "wc -l ../output/42-predominant-isoform/predom_iso-diff-controls_vs_exposed-female.tab"
   ]
  },
  {
   "cell_type": "markdown",
   "metadata": {},
   "source": [
    "## Identify differences in predominant isoforms between _control_ and _exposed_ MALE sets."
   ]
  },
  {
   "cell_type": "markdown",
   "metadata": {},
   "source": [
    "### Peek at the data sets we're working with"
   ]
  },
  {
   "cell_type": "code",
   "execution_count": 11,
   "metadata": {},
   "outputs": [
    {
     "name": "stdout",
     "output_type": "stream",
     "text": [
      "==> ../output/42-predominant-isoform/predom_iso-controls-MALE.txt <==\n",
      "gene_name\tt_name\tPredom_exp\n",
      "ATP6\tgene-ATP6\t98.71285\n",
      "COX1\tgene-COX1\t159.495554\n",
      "COX2\tgene-COX2\t177.196696\n",
      "COX3\tgene-COX3\t154.0915025\n",
      "CYTB\tgene-CYTB\t218.464097\n",
      "LOC111099029\trna-XM_022458270.1\t2.4887975\n",
      "LOC111099030\trna-XM_022430679.1\t8.1297515\n",
      "LOC111099031\trna-XM_022430340.1\t3.5993885\n",
      "LOC111099032\trna-XM_022430343.1\t13.075051\n",
      "\n",
      "==> ../output/42-predominant-isoform/predom_iso-exposed-MALE.txt <==\n",
      "gene_name\tt_name\tPredom_exp\n",
      "ATP6\tgene-ATP6\t201.322307\n",
      "COX1\tgene-COX1\t537.79844075\n",
      "COX2\tgene-COX2\t674.34632525\n",
      "COX3\tgene-COX3\t398.70069325\n",
      "CYTB\tgene-CYTB\t836.67610975\n",
      "LOC111099029\trna-XM_022458270.1\t3.320988\n",
      "LOC111099030\trna-XM_022430679.1\t6.36821525\n",
      "LOC111099031\trna-XM_022430340.1\t2.307631\n",
      "LOC111099032\trna-XM_022430343.1\t10.35354275\n",
      "\n",
      "--------------------------------------------------------------\n",
      "Line counts for each file:\n",
      "\n",
      "39015 ../output/42-predominant-isoform/predom_iso-controls-MALE.txt\n",
      "39015 ../output/42-predominant-isoform/predom_iso-exposed-MALE.txt\n"
     ]
    }
   ],
   "source": [
    "%%bash\n",
    "\n",
    "head ../output/42-predominant-isoform/predom_iso-[ce]*-MALE.txt\n",
    "\n",
    "echo \"\"\n",
    "echo \"${line}\"\n",
    "echo \"Line counts for each file:\"\n",
    "echo \"\"\n",
    "\n",
    "wc -l ../output/42-predominant-isoform/predom_iso-controls-MALE.txt\n",
    "\n",
    "wc -l ../output/42-predominant-isoform/predom_iso-exposed-MALE.txt"
   ]
  },
  {
   "cell_type": "markdown",
   "metadata": {},
   "source": [
    "### Identify unique entries in the control and exposed MALE predominant isoform files\n",
    "\n",
    "Uses `comm` command to _suppress_ common lines between two files."
   ]
  },
  {
   "cell_type": "code",
   "execution_count": 12,
   "metadata": {},
   "outputs": [
    {
     "name": "stdout",
     "output_type": "stream",
     "text": [
      "==> ../output/42-predominant-isoform/predom_iso-controls-MALE-unique.txt <==\n",
      "LOC111099084 rna-XM_022430443.1\n",
      "LOC111099099 rna-XM_022430464.1\n",
      "LOC111099125 rna-XM_022430497.1\n",
      "LOC111099129 rna-XR_002633632.1\n",
      "LOC111099171 rna-XM_022430581.1\n",
      "LOC111099194 rna-XM_022430607.1\n",
      "LOC111099457 rna-XR_002633677.1\n",
      "LOC111099496 rna-XM_022430797.1\n",
      "LOC111099511 rna-XM_022430820.1\n",
      "LOC111099549 rna-XM_022430862.1\n",
      "\n",
      "==> ../output/42-predominant-isoform/predom_iso-exposed-MALE-unique.txt <==\n",
      "LOC111099084 rna-XR_002633625.1\n",
      "LOC111099099 rna-XM_022430462.1\n",
      "LOC111099125 rna-XM_022430498.1\n",
      "LOC111099129 rna-XR_002633633.1\n",
      "LOC111099171 rna-XM_022430577.1\n",
      "LOC111099194 rna-XM_022430605.1\n",
      "LOC111099457 rna-XR_002633680.1\n",
      "LOC111099496 rna-XM_022430796.1\n",
      "LOC111099511 rna-XM_022430821.1\n",
      "LOC111099549 rna-XM_022430864.1\n",
      "\n",
      "--------------------------------------------------------------\n",
      "Line counts for each file:\n",
      "\n",
      "1808 ../output/42-predominant-isoform/predom_iso-controls-MALE-unique.txt\n",
      "1808 ../output/42-predominant-isoform/predom_iso-exposed-MALE-unique.txt\n",
      "\n",
      "--------------------------------------------------------------\n",
      "\n"
     ]
    }
   ],
   "source": [
    "%%bash\n",
    "\n",
    "# Prints unique lines present in the first file (controls MALE)\n",
    "# Skips header line (NR > 1)\n",
    "comm -23 \\\n",
    "<(awk 'NR > 1 {print $1, $2}' ../output/42-predominant-isoform/predom_iso-controls-MALE.txt | sort) \\\n",
    "<(awk 'NR > 1 {print $1, $2}' ../output/42-predominant-isoform/predom_iso-exposed-MALE.txt | sort) \\\n",
    "> ../output/42-predominant-isoform/predom_iso-controls-MALE-unique.txt\n",
    "\n",
    "# Prints unique lines present in the second file (exposed MALE)\n",
    "comm -13 \\\n",
    "<(awk 'NR > 1 {print $1, $2}' ../output/42-predominant-isoform/predom_iso-controls-MALE.txt | sort) \\\n",
    "<(awk 'NR > 1 {print $1, $2}' ../output/42-predominant-isoform/predom_iso-exposed-MALE.txt | sort) \\\n",
    "> ../output/42-predominant-isoform/predom_iso-exposed-MALE-unique.txt\n",
    "\n",
    "# Peek at each file\n",
    "head ../output/42-predominant-isoform/predom_iso-[ce]*-MALE-unique.txt\n",
    "\n",
    "echo \"\"\n",
    "echo \"${line}\"\n",
    "echo \"Line counts for each file:\"\n",
    "echo \"\"\n",
    "\n",
    "wc -l ../output/42-predominant-isoform/predom_iso-controls-MALE-unique.txt\n",
    "\n",
    "wc -l ../output/42-predominant-isoform/predom_iso-exposed-MALE-unique.txt\n",
    "\n",
    "echo \"\"\n",
    "echo \"${line}\"\n",
    "echo \"\""
   ]
  },
  {
   "cell_type": "markdown",
   "metadata": {},
   "source": [
    "### Confirm no difference in genes identified between two files\n",
    "\n",
    "No output means there are _no_ differences."
   ]
  },
  {
   "cell_type": "code",
   "execution_count": 13,
   "metadata": {},
   "outputs": [],
   "source": [
    "%%bash\n",
    "diff \\\n",
    "<(awk '{print $1}' ../output/42-predominant-isoform/predom_iso-controls-MALE-unique.txt) \\\n",
    "<(awk '{print $1}' ../output/42-predominant-isoform/predom_iso-exposed-MALE-unique.txt)"
   ]
  },
  {
   "cell_type": "markdown",
   "metadata": {},
   "source": [
    "## Create file with column indicating different predominant isoform between controls/exposed MALE\n",
    "\n",
    "0 - No difference\n",
    "\n",
    "1 - Difference\n",
    "\n",
    "Join on `predom_iso-control-MALE.txt` and keep all of the `predom_iso-control-MALE.txt` lines.\n",
    "\n",
    "If a line has 3 fields, then there was _no_ match and gets a `0` in output file.\n",
    "\n",
    "If a line has 4 fields, then there _was_ a match and gets a `1` in output file."
   ]
  },
  {
   "cell_type": "code",
   "execution_count": 14,
   "metadata": {},
   "outputs": [
    {
     "name": "stdout",
     "output_type": "stream",
     "text": [
      "ATP6 \t 0\n",
      "COX1 \t 0\n",
      "COX2 \t 0\n",
      "COX3 \t 0\n",
      "CYTB \t 0\n",
      "LOC111099029 \t 0\n",
      "LOC111099030 \t 0\n",
      "LOC111099031 \t 0\n",
      "LOC111099032 \t 0\n",
      "LOC111099033 \t 0\n",
      "\n",
      "--------------------------------------------------------------\n",
      "Confirm there are are lines with a 1 in second column.\n",
      "\n",
      "Expecting 1808:\n",
      "\n",
      "  37206 0\n",
      "   1808 1\n",
      "\n",
      "--------------------------------------------------------------\n",
      "Line counts for predom_iso-diff-female_vs_male.tab (expecting 39014):\n",
      "\n",
      "39014 ../output/42-predominant-isoform/predom_iso-diff-controls_vs_exposed-male.tab\n"
     ]
    }
   ],
   "source": [
    "%%bash\n",
    "# Join and keep all lines from first file (-a 1)\n",
    "join \\\n",
    "-a 1 \\\n",
    "<(awk 'NR > 1' ../output/42-predominant-isoform/predom_iso-controls-MALE.txt | sort -k1,1) \\\n",
    "<(sort -k1,1 ../output/42-predominant-isoform/predom_iso-controls-MALE-unique.txt) \\\n",
    "| awk '{if (NF==4) print $1, \"\\t\", 1; else print $1, \"\\t\", 0}' \\\n",
    "> ../output/42-predominant-isoform/predom_iso-diff-controls_vs_exposed-male.tab\n",
    "\n",
    "# Check file format\n",
    "head ../output/42-predominant-isoform/*diff-controls_vs_exposed-male.tab\n",
    "\n",
    "\n",
    "\n",
    "echo \"\"\n",
    "echo \"${line}\"\n",
    "echo \"Confirm there are are lines with a \"1\" in second column.\"\n",
    "echo \"\"\n",
    "echo \"Expecting 1808:\"\n",
    "echo \"\"\n",
    "\n",
    "# Display counts of lines with 0 and 1 in second column\n",
    "awk '{print $2}' ../output/42-predominant-isoform/*diff-controls_vs_exposed-male.tab \\\n",
    "| sort \\\n",
    "| uniq --count\n",
    "\n",
    "echo \"\"\n",
    "echo \"${line}\"\n",
    "echo \"Line counts for predom_iso-diff-female_vs_male.tab (expecting 39014):\"\n",
    "echo \"\"\n",
    "\n",
    "wc -l ../output/42-predominant-isoform/predom_iso-diff-controls_vs_exposed-male.tab"
   ]
  }
 ],
 "metadata": {
  "kernelspec": {
   "display_name": "Python 3",
   "language": "python",
   "name": "python3"
  },
  "language_info": {
   "codemirror_mode": {
    "name": "ipython",
    "version": 3
   },
   "file_extension": ".py",
   "mimetype": "text/x-python",
   "name": "python",
   "nbconvert_exporter": "python",
   "pygments_lexer": "ipython3",
   "version": "3.9.1"
  }
 },
 "nbformat": 4,
 "nbformat_minor": 4
}
