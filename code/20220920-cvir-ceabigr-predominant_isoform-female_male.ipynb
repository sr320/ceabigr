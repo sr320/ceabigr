{
 "cells": [
  {
   "cell_type": "markdown",
   "metadata": {},
   "source": [
    "## Wrangle [ceabigr](https://github.com/sr320/ceabigr) predominant isoform data in females and males\n",
    "\n",
    "---"
   ]
  },
  {
   "cell_type": "markdown",
   "metadata": {},
   "source": [
    "### List computer specs"
   ]
  },
  {
   "cell_type": "code",
   "execution_count": 1,
   "metadata": {
    "tags": []
   },
   "outputs": [
    {
     "name": "stdout",
     "output_type": "stream",
     "text": [
      "TODAY'S DATE\n",
      "Wed Sep 21 08:08:01 AM PDT 2022\n",
      "------------\n",
      "\n",
      "Distributor ID:\tUbuntu\n",
      "Description:\tUbuntu 22.04.1 LTS\n",
      "Release:\t22.04\n",
      "Codename:\tjammy\n",
      "\n",
      "------------\n",
      "HOSTNAME: \n",
      "computer\n",
      "\n",
      "------------\n",
      "Computer Specs:\n",
      "\n",
      "Architecture:                    x86_64\n",
      "CPU op-mode(s):                  32-bit, 64-bit\n",
      "Address sizes:                   45 bits physical, 48 bits virtual\n",
      "Byte Order:                      Little Endian\n",
      "CPU(s):                          8\n",
      "On-line CPU(s) list:             0-7\n",
      "Vendor ID:                       GenuineIntel\n",
      "Model name:                      Intel(R) Core(TM) i9-10885H CPU @ 2.40GHz\n",
      "CPU family:                      6\n",
      "Model:                           165\n",
      "Thread(s) per core:              1\n",
      "Core(s) per socket:              1\n",
      "Socket(s):                       8\n",
      "Stepping:                        2\n",
      "BogoMIPS:                        4800.01\n",
      "Flags:                           fpu vme de pse tsc msr pae mce cx8 apic sep mtrr pge mca cmov pat pse36 clflush mmx fxsr sse sse2 ss syscall nx pdpe1gb rdtscp lm constant_tsc arch_perfmon nopl xtopology tsc_reliable nonstop_tsc cpuid tsc_known_freq pni pclmulqdq ssse3 fma cx16 pcid sse4_1 sse4_2 x2apic movbe popcnt tsc_deadline_timer aes xsave avx f16c rdrand hypervisor lahf_lm abm 3dnowprefetch invpcid_single pti ssbd ibrs ibpb stibp fsgsbase tsc_adjust bmi1 avx2 smep bmi2 invpcid rdseed adx smap clflushopt xsaveopt xsavec xgetbv1 xsaves arat flush_l1d arch_capabilities\n",
      "Hypervisor vendor:               VMware\n",
      "Virtualization type:             full\n",
      "L1d cache:                       256 KiB (8 instances)\n",
      "L1i cache:                       256 KiB (8 instances)\n",
      "L2 cache:                        2 MiB (8 instances)\n",
      "L3 cache:                        128 MiB (8 instances)\n",
      "NUMA node(s):                    1\n",
      "NUMA node0 CPU(s):               0-7\n",
      "Vulnerability Itlb multihit:     KVM: Mitigation: VMX unsupported\n",
      "Vulnerability L1tf:              Mitigation; PTE Inversion\n",
      "Vulnerability Mds:               Vulnerable: Clear CPU buffers attempted, no microcode; SMT Host state unknown\n",
      "Vulnerability Meltdown:          Mitigation; PTI\n",
      "Vulnerability Mmio stale data:   Vulnerable: Clear CPU buffers attempted, no microcode; SMT Host state unknown\n",
      "Vulnerability Retbleed:          Mitigation; IBRS\n",
      "Vulnerability Spec store bypass: Mitigation; Speculative Store Bypass disabled via prctl and seccomp\n",
      "Vulnerability Spectre v1:        Mitigation; usercopy/swapgs barriers and __user pointer sanitization\n",
      "Vulnerability Spectre v2:        Mitigation; IBRS, IBPB conditional, RSB filling\n",
      "Vulnerability Srbds:             Unknown: Dependent on hypervisor status\n",
      "Vulnerability Tsx async abort:   Not affected\n",
      "\n",
      "------------\n",
      "\n",
      "Memory Specs\n",
      "\n",
      "               total        used        free      shared  buff/cache   available\n",
      "Mem:            54Gi       3.0Gi        47Gi       194Mi       4.4Gi        50Gi\n",
      "Swap:          2.0Gi          0B       2.0Gi\n"
     ]
    },
    {
     "name": "stderr",
     "output_type": "stream",
     "text": [
      "No LSB modules are available.\n"
     ]
    }
   ],
   "source": [
    "%%bash\n",
    "echo \"TODAY'S DATE\"\n",
    "date\n",
    "echo \"------------\"\n",
    "echo \"\"\n",
    "lsb_release -a\n",
    "echo \"\"\n",
    "echo \"------------\"\n",
    "echo \"HOSTNAME: \"\n",
    "hostname\n",
    "echo \"\"\n",
    "echo \"------------\"\n",
    "echo \"Computer Specs:\"\n",
    "echo \"\"\n",
    "lscpu\n",
    "echo \"\"\n",
    "echo \"------------\"\n",
    "echo \"\"\n",
    "echo \"Memory Specs\"\n",
    "echo \"\"\n",
    "free -mh"
   ]
  },
  {
   "cell_type": "code",
   "execution_count": 2,
   "metadata": {},
   "outputs": [
    {
     "name": "stdout",
     "output_type": "stream",
     "text": [
      "env: line=--------------------------------------------------------------\n"
     ]
    }
   ],
   "source": [
    "## Set variables\n",
    "%env line=--------------------------------------------------------------"
   ]
  },
  {
   "cell_type": "markdown",
   "metadata": {},
   "source": [
    "## Identify differences in predominant isoforms between female and male sets"
   ]
  },
  {
   "cell_type": "markdown",
   "metadata": {},
   "source": [
    "### Peek at the data sets we're working with"
   ]
  },
  {
   "cell_type": "code",
   "execution_count": 3,
   "metadata": {},
   "outputs": [
    {
     "name": "stdout",
     "output_type": "stream",
     "text": [
      "==> ../output/42-predominant-isoform/predom_iso-FEMALE.txt <==\n",
      "gene_name\tt_name\tPredom_exp\n",
      "ATP6\tgene-ATP6\t1559.459344875\n",
      "COX1\tgene-COX1\t2522.038659875\n",
      "COX2\tgene-COX2\t3275.719864625\n",
      "COX3\tgene-COX3\t1304.791763125\n",
      "CYTB\tgene-CYTB\t3774.9275236875\n",
      "LOC111099029\trna-XM_022458270.1\t8.126048875\n",
      "LOC111099030\trna-XM_022430679.1\t0.3691793125\n",
      "LOC111099031\trna-XM_022430340.1\t0.025242\n",
      "LOC111099032\trna-XM_022430343.1\t0.311879\n",
      "\n",
      "==> ../output/42-predominant-isoform/predom_iso-FEMALE-unique.txt <==\n",
      "LOC111099045 rna-XM_022430383.1\n",
      "LOC111099056 rna-XM_022430398.1\n",
      "LOC111099081 rna-XM_022430439.1\n",
      "LOC111099095 rna-XM_022430454.1\n",
      "LOC111099097 rna-XM_022430457.1\n",
      "LOC111099106 rna-XM_022430475.1\n",
      "LOC111099122 rna-XM_022430490.1\n",
      "LOC111099147 rna-XM_022430532.1\n",
      "LOC111099150 rna-XM_022430534.1\n",
      "LOC111099152 rna-XM_022430539.1\n",
      "\n",
      "==> ../output/42-predominant-isoform/predom_iso-MALE.txt <==\n",
      "gene_name\tt_name\tPredom_exp\n",
      "ATP6\tgene-ATP6\t168.1429404\n",
      "COX1\tgene-COX1\t391.711256\n",
      "COX2\tgene-COX2\t469.952397\n",
      "COX3\tgene-COX3\t317.3457539\n",
      "CYTB\tgene-CYTB\t572.9543073\n",
      "LOC111099029\trna-XM_022458270.1\t2.7177601\n",
      "LOC111099030\trna-XM_022430679.1\t7.1210692\n",
      "LOC111099031\trna-XM_022430340.1\t2.7255408\n",
      "LOC111099032\trna-XM_022430343.1\t11.5618458\n",
      "\n",
      "==> ../output/42-predominant-isoform/predom_iso-MALE-unique.txt <==\n",
      "LOC111099045 rna-XM_022430381.1\n",
      "LOC111099056 rna-XM_022430399.1\n",
      "LOC111099081 rna-XM_022430438.1\n",
      "LOC111099095 rna-XM_022430455.1\n",
      "LOC111099097 rna-XM_022430459.1\n",
      "LOC111099106 rna-XM_022430473.1\n",
      "LOC111099122 rna-XM_022430489.1\n",
      "LOC111099147 rna-XM_022430531.1\n",
      "LOC111099150 rna-XM_022430535.1\n",
      "LOC111099152 rna-XM_022430540.1\n",
      "\n",
      "--------------------------------------------------------------\n",
      "Line counts for each file:\n",
      "\n",
      "39015 ../output/42-predominant-isoform/predom_iso-FEMALE.txt\n",
      "39015 ../output/42-predominant-isoform/predom_iso-MALE.txt\n"
     ]
    }
   ],
   "source": [
    "%%bash\n",
    "\n",
    "head ../output/42-predominant-isoform/predom_iso-[FM]*.txt\n",
    "\n",
    "echo \"\"\n",
    "echo \"${line}\"\n",
    "echo \"Line counts for each file:\"\n",
    "echo \"\"\n",
    "\n",
    "wc -l ../output/42-predominant-isoform/predom_iso-FEMALE.txt\n",
    "\n",
    "wc -l ../output/42-predominant-isoform/predom_iso-MALE.txt"
   ]
  },
  {
   "cell_type": "markdown",
   "metadata": {},
   "source": [
    "### Identify unique entries in the FEMALE and MALE predominant isoform files\n",
    "\n",
    "Uses `comm` command to _suppress_ common lines between two files."
   ]
  },
  {
   "cell_type": "code",
   "execution_count": 4,
   "metadata": {},
   "outputs": [
    {
     "name": "stdout",
     "output_type": "stream",
     "text": [
      "==> ../output/42-predominant-isoform/predom_iso-FEMALE-unique.txt <==\n",
      "LOC111099045 rna-XM_022430383.1\n",
      "LOC111099056 rna-XM_022430398.1\n",
      "LOC111099081 rna-XM_022430439.1\n",
      "LOC111099095 rna-XM_022430454.1\n",
      "LOC111099097 rna-XM_022430457.1\n",
      "LOC111099106 rna-XM_022430475.1\n",
      "LOC111099122 rna-XM_022430490.1\n",
      "LOC111099147 rna-XM_022430532.1\n",
      "LOC111099150 rna-XM_022430534.1\n",
      "LOC111099152 rna-XM_022430539.1\n",
      "\n",
      "==> ../output/42-predominant-isoform/predom_iso-MALE-unique.txt <==\n",
      "LOC111099045 rna-XM_022430381.1\n",
      "LOC111099056 rna-XM_022430399.1\n",
      "LOC111099081 rna-XM_022430438.1\n",
      "LOC111099095 rna-XM_022430455.1\n",
      "LOC111099097 rna-XM_022430459.1\n",
      "LOC111099106 rna-XM_022430473.1\n",
      "LOC111099122 rna-XM_022430489.1\n",
      "LOC111099147 rna-XM_022430531.1\n",
      "LOC111099150 rna-XM_022430535.1\n",
      "LOC111099152 rna-XM_022430540.1\n",
      "\n",
      "--------------------------------------------------------------\n",
      "Line counts for each file:\n",
      "\n",
      "4090 ../output/42-predominant-isoform/predom_iso-FEMALE-unique.txt\n",
      "4090 ../output/42-predominant-isoform/predom_iso-MALE-unique.txt\n",
      "\n",
      "--------------------------------------------------------------\n",
      "\n"
     ]
    }
   ],
   "source": [
    "%%bash\n",
    "\n",
    "# Prints unique lines present in the first file (FEMALE)\n",
    "# Skips header line (NR > 1)\n",
    "comm -23 \\\n",
    "<(awk 'NR > 1 {print $1, $2}' ../output/42-predominant-isoform/predom_iso-FEMALE.txt | sort) \\\n",
    "<(awk 'NR > 1 {print $1, $2}' ../output/42-predominant-isoform/predom_iso-MALE.txt | sort) \\\n",
    "> ../output/42-predominant-isoform/predom_iso-FEMALE-unique.txt\n",
    "\n",
    "# Prints unique lines present in the second file (MALE)\n",
    "comm -13 \\\n",
    "<(awk 'NR > 1 {print $1, $2}' ../output/42-predominant-isoform/predom_iso-FEMALE.txt | sort) \\\n",
    "<(awk 'NR > 1 {print $1, $2}' ../output/42-predominant-isoform/predom_iso-MALE.txt | sort) \\\n",
    "> ../output/42-predominant-isoform/predom_iso-MALE-unique.txt\n",
    "\n",
    "# Peek at each file\n",
    "head ../output/42-predominant-isoform/*unique.txt\n",
    "\n",
    "echo \"\"\n",
    "echo \"${line}\"\n",
    "echo \"Line counts for each file:\"\n",
    "echo \"\"\n",
    "\n",
    "wc -l ../output/42-predominant-isoform/predom_iso-FEMALE-unique.txt\n",
    "\n",
    "wc -l ../output/42-predominant-isoform/predom_iso-MALE-unique.txt\n",
    "\n",
    "echo \"\"\n",
    "echo \"${line}\"\n",
    "echo \"\""
   ]
  },
  {
   "cell_type": "markdown",
   "metadata": {},
   "source": [
    "### Confirm no difference in genes identified between two files\n",
    "\n",
    "No output means there are _no_ differences."
   ]
  },
  {
   "cell_type": "code",
   "execution_count": 5,
   "metadata": {
    "tags": []
   },
   "outputs": [],
   "source": [
    "%%bash\n",
    "diff \\\n",
    "<(awk '{print $1}' ../output/42-predominant-isoform/predom_iso-FEMALE-unique.txt) \\\n",
    "<(awk '{print $1}' ../output/42-predominant-isoform/predom_iso-MALE-unique.txt)"
   ]
  },
  {
   "cell_type": "markdown",
   "metadata": {},
   "source": [
    "## Create file with column indicating different predominant isoform between sexes\n",
    "\n",
    "0 - No difference\n",
    "\n",
    "1 - Difference\n",
    "\n",
    "Join on `predom_iso-FEMALE.txt` and keep all of the `predom_iso-FEMALE.txt` lines.\n",
    "\n",
    "If a line has 3 fields, then there was _no_ match and gets a `0` in output file.\n",
    "\n",
    "If a line has 4 fields, then there _was_ a match and gets a `1` in output file."
   ]
  },
  {
   "cell_type": "code",
   "execution_count": 6,
   "metadata": {},
   "outputs": [
    {
     "name": "stdout",
     "output_type": "stream",
     "text": [
      "ATP6 \t 0\n",
      "COX1 \t 0\n",
      "COX2 \t 0\n",
      "COX3 \t 0\n",
      "CYTB \t 0\n",
      "LOC111099029 \t 0\n",
      "LOC111099030 \t 0\n",
      "LOC111099031 \t 0\n",
      "LOC111099032 \t 0\n",
      "LOC111099033 \t 0\n",
      "\n",
      "--------------------------------------------------------------\n",
      "Confirm there are are lines with a 1 in second column.\n",
      "\n",
      "Expecting 4090:\n",
      "\n",
      "  34924 0\n",
      "   4090 1\n",
      "\n",
      "--------------------------------------------------------------\n",
      "Line counts for predom_iso-diff-female_vs_male.tab (expecting 39014):\n",
      "\n",
      "39014 ../output/42-predominant-isoform/predom_iso-diff-female_vs_male.tab\n"
     ]
    }
   ],
   "source": [
    "%%bash\n",
    "# Join and keep all lines from first file (-a 1)\n",
    "join \\\n",
    "-a 1 \\\n",
    "<(awk 'NR > 1' ../output/42-predominant-isoform/predom_iso-FEMALE.txt | sort -k1,1) \\\n",
    "<(sort -k1,1 ../output/42-predominant-isoform/predom_iso-FEMALE-unique.txt) \\\n",
    "| awk '{if (NF==4) print $1, \"\\t\", 1; else print $1, \"\\t\", 0}' \\\n",
    "> ../output/42-predominant-isoform/predom_iso-diff-female_vs_male.tab\n",
    "\n",
    "# Check file format\n",
    "head ../output/42-predominant-isoform/*diff-female_vs_male.tab\n",
    "\n",
    "\n",
    "\n",
    "echo \"\"\n",
    "echo \"${line}\"\n",
    "echo \"Confirm there are are lines with a \"1\" in second column.\"\n",
    "echo \"\"\n",
    "echo \"Expecting 4090:\"\n",
    "echo \"\"\n",
    "\n",
    "# Display counts of lines with 0 and 1 in second column\n",
    "awk '{print $2}' ../output/42-predominant-isoform/*diff-female_vs_male.tab \\\n",
    "| sort \\\n",
    "| uniq --count\n",
    "\n",
    "echo \"\"\n",
    "echo \"${line}\"\n",
    "echo \"Line counts for predom_iso-diff-female_vs_male.tab (expecting 39014):\"\n",
    "echo \"\"\n",
    "\n",
    "wc -l ../output/42-predominant-isoform/predom_iso-diff-female_vs_male.tab"
   ]
  }
 ],
 "metadata": {
  "kernelspec": {
   "display_name": "Python 3",
   "language": "python",
   "name": "python3"
  },
  "language_info": {
   "codemirror_mode": {
    "name": "ipython",
    "version": 3
   },
   "file_extension": ".py",
   "mimetype": "text/x-python",
   "name": "python",
   "nbconvert_exporter": "python",
   "pygments_lexer": "ipython3",
   "version": "3.9.1"
  }
 },
 "nbformat": 4,
 "nbformat_minor": 4
}
